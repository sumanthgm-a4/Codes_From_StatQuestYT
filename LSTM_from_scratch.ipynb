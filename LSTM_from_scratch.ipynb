{
 "cells": [
  {
   "cell_type": "markdown",
   "metadata": {},
   "source": [
    "<h3>Importing the Libraries</h3>"
   ]
  },
  {
   "cell_type": "code",
   "execution_count": 1,
   "metadata": {},
   "outputs": [
    {
     "name": "stderr",
     "output_type": "stream",
     "text": [
      "/home/sum/.local/lib/python3.10/site-packages/matplotlib/projections/__init__.py:63: UserWarning: Unable to import Axes3D. This may be due to multiple versions of Matplotlib being installed (e.g. as a system package and as a pip package). As a result, the 3D projection is not available.\n",
      "  warnings.warn(\"Unable to import Axes3D. This may be due to multiple versions of \"\n"
     ]
    }
   ],
   "source": [
    "import torch\n",
    "import torch.nn as nn\n",
    "import torch.nn.functional as F\n",
    "from torch.optim import Adam\n",
    "\n",
    "import lightning as L\n",
    "from torch.utils.data import TensorDataset, DataLoader"
   ]
  },
  {
   "cell_type": "markdown",
   "metadata": {},
   "source": [
    "<h3>Creating the LSTM Class</h3>"
   ]
  },
  {
   "cell_type": "code",
   "execution_count": 2,
   "metadata": {},
   "outputs": [],
   "source": [
    "class LSTMByHand(L.LightningModule):\n",
    "    def __init__(self):\n",
    "        #Create and initialize Weight and Bias tensors\n",
    "\n",
    "        super().__init__()\n",
    "        mean = torch.tensor(0.)\n",
    "        std = torch.tensor(1.)\n",
    "\n",
    "        self.wlr1 = nn.Parameter(torch.normal(mean = mean, std = std), requires_grad = True)\n",
    "        self.wlr2 = nn.Parameter(torch.normal(mean = mean, std = std), requires_grad = True)\n",
    "        self.blr1 = nn.Parameter(torch.tensor(0.), requires_grad = True)\n",
    "\n",
    "        self.wpr1 = nn.Parameter(torch.normal(mean = mean, std = std), requires_grad = True)\n",
    "        self.wpr2 = nn.Parameter(torch.normal(mean = mean, std = std), requires_grad = True)\n",
    "        self.bpr1 = nn.Parameter(torch.tensor(0.), requires_grad = True)\n",
    "\n",
    "        self.wp1 = nn.Parameter(torch.normal(mean = mean, std = std), requires_grad = True)\n",
    "        self.wp2 = nn.Parameter(torch.normal(mean = mean, std = std), requires_grad = True)\n",
    "        self.bp1 = nn.Parameter(torch.tensor(0.), requires_grad = True)\n",
    "\n",
    "        self.wo1 = nn.Parameter(torch.normal(mean = mean, std = std), requires_grad = True)\n",
    "        self.wo2 = nn.Parameter(torch.normal(mean = mean, std = std), requires_grad = True)\n",
    "        self.bo1 = nn.Parameter(torch.tensor(0.), requires_grad = True)        \n",
    "\n",
    "\n",
    "    def lstm_unit(self, input_value, long_memory, short_memory):\n",
    "        #Do the LSTM math\n",
    "\n",
    "        long_remember_precent = torch.sigmoid((short_memory * self.wlr1) +\n",
    "                                              (input_value * self.wlr2) +\n",
    "                                              self.blr1)\n",
    "        \n",
    "        potential_remember_precent = torch.sigmoid((short_memory * self.wpr1) +\n",
    "                                              (input_value * self.wpr2) +\n",
    "                                              self.bpr1)\n",
    "        \n",
    "        potential_memory = torch.tanh((short_memory * self.wp1) +\n",
    "                                              (input_value * self.wp2) +\n",
    "                                              self.bp1)\n",
    "        \n",
    "        updated_long_memory = ((long_memory * long_remember_precent) +\n",
    "                               (potential_remember_precent * potential_memory))\n",
    "        \n",
    "        output_percent = torch.sigmoid((short_memory * self.wo1) +\n",
    "                                       (input_value * self.wo2) +\n",
    "                                       self.bo1)\n",
    "        \n",
    "        updated_short_memory = torch.tanh(updated_long_memory) * output_percent\n",
    "\n",
    "        return [updated_long_memory, updated_short_memory]\n",
    "\n",
    "\n",
    "    def forward(self, input):\n",
    "        #Make a forward pass through the unrolled LSTN\n",
    "        \n",
    "        long_memory =  0\n",
    "        short_memory = 0\n",
    "        day1 = input[0]\n",
    "        day2 = input[1]\n",
    "        day3 = input[2]\n",
    "        day4 = input[3]\n",
    "\n",
    "        long_memory, short_memory = self.lstm_unit(day1, long_memory, short_memory)\n",
    "        long_memory, short_memory = self.lstm_unit(day2, long_memory, short_memory)\n",
    "        long_memory, short_memory = self.lstm_unit(day3, long_memory, short_memory)\n",
    "        long_memory, short_memory = self.lstm_unit(day4, long_memory, short_memory)\n",
    "\n",
    "        return short_memory\n",
    "\n",
    "\n",
    "    def configure_optimizers(self):\n",
    "        #Configure the Adam optimizer\n",
    "        \n",
    "        return Adam(self.parameters())\n",
    "\n",
    "\n",
    "    def training_step(self, batch, batch_idx):\n",
    "        #Calculate loss and log the training process\n",
    "        \n",
    "        input_i, label_i = batch\n",
    "        output_i = self.forward(input_i[0])\n",
    "        loss = (output_i - label_i) ** 2\n",
    "\n",
    "        self.log(\"train_loss\", loss)\n",
    "\n",
    "        if label_i == 0:\n",
    "            self.log(\"out_0\", output_i)\n",
    "        else:\n",
    "            self.log(\"out_1\", output_i)\n",
    "\n",
    "        return loss"
   ]
  },
  {
   "cell_type": "markdown",
   "metadata": {},
   "source": [
    "<h3>Making Predictions with the Initial Random Values"
   ]
  },
  {
   "cell_type": "code",
   "execution_count": 21,
   "metadata": {},
   "outputs": [
    {
     "name": "stdout",
     "output_type": "stream",
     "text": [
      "Now let's compare the observed and predicted values:\n",
      "\n",
      "Company A: Observed = 0, Predicted = tensor(0.5078)\n",
      "Company B: Observed = 1, Predicted = tensor(0.6223)\n"
     ]
    }
   ],
   "source": [
    "model = LSTMByHand()\n",
    "\n",
    "print(\"Now let's compare the observed and predicted values:\")\n",
    "print(\"\\nCompany A: Observed = 0, Predicted =\",\n",
    "      model(torch.tensor([0., 0.5, 0.25, 1.])).detach())\n",
    "print(\"Company B: Observed = 1, Predicted =\",\n",
    "      model(torch.tensor([1., 0.5, 0.25, 1.])).detach())"
   ]
  },
  {
   "cell_type": "markdown",
   "metadata": {},
   "source": [
    "<h3>Training the Model</h3>"
   ]
  },
  {
   "cell_type": "code",
   "execution_count": 26,
   "metadata": {},
   "outputs": [
    {
     "name": "stderr",
     "output_type": "stream",
     "text": [
      "GPU available: False, used: False\n",
      "TPU available: False, using: 0 TPU cores\n",
      "HPU available: False, using: 0 HPUs\n",
      "Missing logger folder: /home/sum/Study/Statquest_Codes/lightning_logs\n",
      "2024-07-03 19:25:28.440990: I tensorflow/core/util/port.cc:113] oneDNN custom operations are on. You may see slightly different numerical results due to floating-point round-off errors from different computation orders. To turn them off, set the environment variable `TF_ENABLE_ONEDNN_OPTS=0`.\n",
      "2024-07-03 19:25:28.597300: E external/local_xla/xla/stream_executor/cuda/cuda_fft.cc:479] Unable to register cuFFT factory: Attempting to register factory for plugin cuFFT when one has already been registered\n",
      "2024-07-03 19:25:28.676742: E external/local_xla/xla/stream_executor/cuda/cuda_dnn.cc:10575] Unable to register cuDNN factory: Attempting to register factory for plugin cuDNN when one has already been registered\n",
      "2024-07-03 19:25:28.677655: E external/local_xla/xla/stream_executor/cuda/cuda_blas.cc:1442] Unable to register cuBLAS factory: Attempting to register factory for plugin cuBLAS when one has already been registered\n",
      "2024-07-03 19:25:28.796152: I tensorflow/core/platform/cpu_feature_guard.cc:210] This TensorFlow binary is optimized to use available CPU instructions in performance-critical operations.\n",
      "To enable the following instructions: AVX2 AVX512F AVX512_VNNI FMA, in other operations, rebuild TensorFlow with the appropriate compiler flags.\n",
      "2024-07-03 19:25:29.994710: W tensorflow/compiler/tf2tensorrt/utils/py_utils.cc:38] TF-TRT Warning: Could not find TensorRT\n",
      "\n",
      "  | Name         | Type | Params | Mode\n",
      "---------------------------------------------\n",
      "  | other params | n/a  | 12     | n/a \n",
      "---------------------------------------------\n",
      "12        Trainable params\n",
      "0         Non-trainable params\n",
      "12        Total params\n",
      "0.000     Total estimated model params size (MB)\n",
      "/home/sum/.local/lib/python3.10/site-packages/lightning/pytorch/trainer/connectors/data_connector.py:424: The 'train_dataloader' does not have many workers which may be a bottleneck. Consider increasing the value of the `num_workers` argument` to `num_workers=7` in the `DataLoader` to improve performance.\n",
      "/home/sum/.local/lib/python3.10/site-packages/lightning/pytorch/loops/fit_loop.py:298: The number of training batches (2) is smaller than the logging interval Trainer(log_every_n_steps=50). Set a lower value for log_every_n_steps if you want to see logs for the training epoch.\n"
     ]
    },
    {
     "name": "stdout",
     "output_type": "stream",
     "text": [
      "Epoch 1999: 100%|██████████| 2/2 [00:00<00:00, 111.76it/s, v_num=0]"
     ]
    },
    {
     "name": "stderr",
     "output_type": "stream",
     "text": [
      "`Trainer.fit` stopped: `max_epochs=2000` reached.\n"
     ]
    },
    {
     "name": "stdout",
     "output_type": "stream",
     "text": [
      "Epoch 1999: 100%|██████████| 2/2 [00:00<00:00, 83.03it/s, v_num=0] \n"
     ]
    }
   ],
   "source": [
    "inputs = torch.tensor([[0., 0.5, 0.25, 1.], [1., 0.5, 0.25, 1.]])\n",
    "labels = torch.tensor([0., 1.])     #Expected (actual) outputs for Companies A & B\n",
    "\n",
    "dataset = TensorDataset(inputs, labels)\n",
    "dataloader = DataLoader(dataset)\n",
    "\n",
    "trainer = L.Trainer(max_epochs = 2000)\n",
    "trainer.fit(model, train_dataloaders = dataloader)"
   ]
  },
  {
   "cell_type": "markdown",
   "metadata": {},
   "source": [
    "<h3>Making Predictions After Training the Model</h3>"
   ]
  },
  {
   "cell_type": "code",
   "execution_count": 27,
   "metadata": {},
   "outputs": [
    {
     "name": "stdout",
     "output_type": "stream",
     "text": [
      "Now let's compare the observed and predicted values:\n",
      "\n",
      "Company A: Observed = 0, Predicted = tensor(0.0003)\n",
      "Company B: Observed = 1, Predicted = tensor(0.9706)\n"
     ]
    }
   ],
   "source": [
    "print(\"Now let's compare the observed and predicted values:\")\n",
    "print(\"\\nCompany A: Observed = 0, Predicted =\",\n",
    "      model(torch.tensor([0., 0.5, 0.25, 1.])).detach())\n",
    "print(\"Company B: Observed = 1, Predicted =\",\n",
    "      model(torch.tensor([1., 0.5, 0.25, 1.])).detach())"
   ]
  }
 ],
 "metadata": {
  "kernelspec": {
   "display_name": "Python 3",
   "language": "python",
   "name": "python3"
  },
  "language_info": {
   "codemirror_mode": {
    "name": "ipython",
    "version": 3
   },
   "file_extension": ".py",
   "mimetype": "text/x-python",
   "name": "python",
   "nbconvert_exporter": "python",
   "pygments_lexer": "ipython3",
   "version": "3.10.12"
  }
 },
 "nbformat": 4,
 "nbformat_minor": 2
}
